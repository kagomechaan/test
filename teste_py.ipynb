{
 "cells": [
  {
   "cell_type": "code",
   "execution_count": 1,
   "id": "ed039e76",
   "metadata": {},
   "outputs": [
    {
     "data": {
      "text/plain": [
       "91"
      ]
     },
     "execution_count": 1,
     "metadata": {},
     "output_type": "execute_result"
    }
   ],
   "source": [
    "\n",
    "INDICE = 13\n",
    "SOMA = 0\n",
    "K = 0\n",
    "\n",
    "while K < INDICE:\n",
    "    K += 1\n",
    "    SOMA += K\n",
    "\n",
    "SOMA\n"
   ]
  },
  {
   "cell_type": "code",
   "execution_count": 13,
   "id": "26b4c979",
   "metadata": {},
   "outputs": [
    {
     "data": {
      "text/plain": [
       "'Este número: 21 pertence a sequência.'"
      ]
     },
     "execution_count": 13,
     "metadata": {},
     "output_type": "execute_result"
    }
   ],
   "source": [
    "\n",
    "def sequencia_fri (num):\n",
    "    a, b = 0, 1\n",
    "    \n",
    "    if num == 0 or num == 1:\n",
    "        return f\"Este é o número: {num} .\"\n",
    "    \n",
    "    while b < num:\n",
    "        a, b = b, a + b\n",
    "    \n",
    "    \n",
    "    if b == num:\n",
    "        return f\"Este número: {num} pertence a sequência.\"\n",
    "    else:\n",
    "        return f\"este número: {num} NÃO pertence a sequência.\"\n",
    "\n",
    "sequencia_fri(21) \n"
   ]
  },
  {
   "cell_type": "code",
   "execution_count": 4,
   "id": "b9e21c31",
   "metadata": {},
   "outputs": [
    {
     "name": "stdout",
     "output_type": "stream",
     "text": [
      "Menor valor de faturamento: 500\n",
      "Maior valor de faturamento: 3100\n",
      "Número de dias com faturamento acima da média: 5\n"
     ]
    }
   ],
   "source": [
    "def analise_faturamento(faturamento_diario):\n",
    "    faturamento_valido = [valor for valor in faturamento_diario if valor > 0]\n",
    "\n",
    "    menor_faturamento = min(faturamento_valido)\n",
    "    maior_faturamento = max(faturamento_valido)\n",
    "\n",
    "    media_mensal = sum(faturamento_valido) / len(faturamento_valido)\n",
    "    dias_acima_da_media = len([valor for valor in faturamento_valido if valor > media_mensal])\n",
    "    return menor_faturamento, maior_faturamento, dias_acima_da_media\n",
    "\n",
    "faturamento_diario = [1000, 2000, 0, 1500, 0, 2500, 3000, 500, 800, 0, 1800, 1200, 0, 2700, 3100, 0]\n",
    "menor, maior, dias_acima = analise_faturamento(faturamento_diario)\n",
    "\n",
    "print(f\"Menor valor de faturamento: {menor}\")\n",
    "print(f\"Maior valor de faturamento: {maior}\")\n",
    "print(f\"Número de dias com faturamento acima da média: {dias_acima}\")\n"
   ]
  },
  {
   "cell_type": "code",
   "execution_count": 11,
   "id": "bce8fb53",
   "metadata": {},
   "outputs": [
    {
     "name": "stdout",
     "output_type": "stream",
     "text": [
      "SP: 37.53%\n",
      "RJ: 20.29%\n",
      "MG: 16.17%\n",
      "ES: 15.03%\n",
      "Outros: 10.98%\n"
     ]
    }
   ],
   "source": [
    "\n",
    "fat_estados = {\n",
    "    \"SP\": 67836.43,\n",
    "    \"RJ\": 36678.66,\n",
    "    \"MG\": 29229.88,\n",
    "    \"ES\": 27165.48,\n",
    "    \"Outros\": 19849.53\n",
    "}\n",
    "\n",
    "\n",
    "fat_total = sum(fat_estados.values())\n",
    "\n",
    "for estado, valor in fat_estados.items():\n",
    "    percentual = (valor / fat_total) * 100\n",
    "    print(f\"{estado}: {percentual:.2f}%\")\n"
   ]
  },
  {
   "cell_type": "code",
   "execution_count": 10,
   "id": "ea4bd53b",
   "metadata": {},
   "outputs": [
    {
     "data": {
      "text/plain": [
       "'azyahR'"
      ]
     },
     "execution_count": 10,
     "metadata": {},
     "output_type": "execute_result"
    }
   ],
   "source": [
    "\n",
    "def invert_str(text):\n",
    "    texto_invertido = \"\"\n",
    "    for i in range(len(text) - 1, -1, -1):\n",
    "        texto_invertido += text[i]\n",
    "    return texto_invertido\n",
    "\n",
    "text = \"Rhayza\"\n",
    "invert_str(text)\n"
   ]
  },
  {
   "cell_type": "code",
   "execution_count": null,
   "id": "14533519",
   "metadata": {},
   "outputs": [],
   "source": []
  }
 ],
 "metadata": {
  "kernelspec": {
   "display_name": "Python 3 (ipykernel)",
   "language": "python",
   "name": "python3"
  },
  "language_info": {
   "codemirror_mode": {
    "name": "ipython",
    "version": 3
   },
   "file_extension": ".py",
   "mimetype": "text/x-python",
   "name": "python",
   "nbconvert_exporter": "python",
   "pygments_lexer": "ipython3",
   "version": "3.10.9"
  }
 },
 "nbformat": 4,
 "nbformat_minor": 5
}
